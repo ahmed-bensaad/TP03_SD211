{
 "cells": [
  {
   "cell_type": "markdown",
   "metadata": {},
   "source": [
    "# TP03: Restauration D'images\n",
    "### Ahmed Ben Saad"
   ]
  },
  {
   "cell_type": "markdown",
   "metadata": {},
   "source": [
    "## I. Altération d'une image"
   ]
  },
  {
   "cell_type": "code",
   "execution_count": 53,
   "metadata": {
    "collapsed": true
   },
   "outputs": [],
   "source": [
    "import pickle\n",
    "import matplotlib.pyplot as plt\n",
    "import numpy as np\n",
    "from scipy.sparse.linalg import cg"
   ]
  },
  {
   "cell_type": "code",
   "execution_count": 16,
   "metadata": {
    "collapsed": false
   },
   "outputs": [
    {
     "data": {
      "image/png": "[encoded data removed]",
      "text/plain": [
       "<matplotlib.figure.Figure at 0x7f5d48557048>"
      ]
     },
     "metadata": {},
     "output_type": "display_data"
    }
   ],
   "source": [
    "path='' #change for filepath\n",
    "#open file\n",
    "data = pickle.load(open(path+'data2018forpython2.pk','rb'),encoding='latin1')\n",
    "#load the original image\n",
    "X=data.get('original')\n",
    "#plot image\n",
    "plt.imshow(X,cmap='gray')\n",
    "plt.show()"
   ]
  },
  {
   "cell_type": "code",
   "execution_count": 52,
   "metadata": {
    "collapsed": false
   },
   "outputs": [
    {
     "data": {
      "image/png": "[encoded data removed]",
      "text/plain": [
       "<matplotlib.figure.Figure at 0x7f5d39cd5470>"
      ]
     },
     "metadata": {},
     "output_type": "display_data"
    }
   ],
   "source": [
    "H=data.get('H')\n",
    "h=H.toarray()\n",
    "X=np.reshape(X,(4096,1))\n",
    "XX=H*X\n",
    "XX=XX.reshape((64,64))\n",
    "plt.imshow(XX,cmap='gray')\n",
    "plt.show()"
   ]
  },
  {
   "cell_type": "markdown",
   "metadata": {},
   "source": [
    "## II. Restauration d'image par l'algorithme ADMM\n"
   ]
  },
  {
   "cell_type": "markdown",
   "metadata": {},
   "source": [
    "### Préparation 1"
   ]
  },
  {
   "cell_type": "markdown",
   "metadata": {},
   "source": [
    "# TODO REP SUR QUESTION"
   ]
  },
  {
   "cell_type": "markdown",
   "metadata": {},
   "source": [
    "### Préparation 2"
   ]
  },
  {
   "cell_type": "markdown",
   "metadata": {},
   "source": [
    "# TODO REP SUR QUESTION"
   ]
  },
  {
   "cell_type": "markdown",
   "metadata": {},
   "source": [
    "### Préparation 3"
   ]
  },
  {
   "cell_type": "code",
   "execution_count": 59,
   "metadata": {
    "collapsed": false
   },
   "outputs": [],
   "source": [
    "T=data.get('T')\n",
    "T=T.toarray()\n",
    "p=4096"
   ]
  },
  {
   "cell_type": "code",
   "execution_count": 177,
   "metadata": {
    "collapsed": false
   },
   "outputs": [],
   "source": [
    "def argmin_x(x,z1,z2,g1,g2,rho,y):\n",
    "    M= np.dot(np.transpose(h),h)+ rho*np.dot(np.transpose(T),T)+np.eye(p)\n",
    "    B=(rho*(z1+np.dot(np.transpose(T),z2))) + (np.dot(np.transpose(h),y)) - g1 - (np.dot(np.transpose(T),g2))\n",
    "    x=(cg(M,B)[0]).reshape((4096,1))\n",
    "    return x"
   ]
  },
  {
   "cell_type": "markdown",
   "metadata": {},
   "source": [
    "### Préparation 4"
   ]
  },
  {
   "cell_type": "markdown",
   "metadata": {},
   "source": [
    "# TODO TROUVER LA FORMULE DE Zk+1"
   ]
  },
  {
   "cell_type": "code",
   "execution_count": 207,
   "metadata": {
    "collapsed": false
   },
   "outputs": [],
   "source": [
    "def argmin_z1(x,rho,g1):\n",
    "    maxx=np.maximum(0.,(1./rho)*g1+x)\n",
    "    minn=np.minimum(1.,maxx)\n",
    "    return(minn)"
   ]
  },
  {
   "cell_type": "markdown",
   "metadata": {},
   "source": [
    "# TODO TROUVER LA FORMULE DE Z2 k+1"
   ]
  },
  {
   "cell_type": "code",
   "execution_count": 212,
   "metadata": {
    "collapsed": true
   },
   "outputs": [],
   "source": [
    "def argmin_z2(x,rho,g2,beta,T):\n",
    "    Tx=np.dot(T,x)\n",
    "    rhog=(1./rho)*g2\n",
    "    return((Tx+rhog)*np.maximum(0.0,1.0-(1./rho)*beta/np.linalg.norm(Tx+rhog)))"
   ]
  },
  {
   "cell_type": "markdown",
   "metadata": {},
   "source": [
    "### Préparation 5"
   ]
  },
  {
   "cell_type": "code",
   "execution_count": 216,
   "metadata": {
    "collapsed": false
   },
   "outputs": [],
   "source": [
    "def maj_g1_g2(x,z1,z2,rho,g1,g2,T):\n",
    "    new_g1=g1+rho*(x-z1)\n",
    "    new_g2=g2+rho*(T.dot(x)-z2)\n",
    "    return (new_g1,new_g2)\n",
    "    \n",
    "    "
   ]
  },
  {
   "cell_type": "markdown",
   "metadata": {},
   "source": [
    "## III. Implémentation de l'ADMM pour résoudre le problème de restauration d'image\n"
   ]
  },
  {
   "cell_type": "code",
   "execution_count": 217,
   "metadata": {
    "collapsed": false
   },
   "outputs": [],
   "source": [
    "rho=0.05\n",
    "beta=0.01\n",
    "kmax=100\n",
    "y=np.reshape(X,(4096,1))\n",
    "x=np.ones((4096,1))\n",
    "z1=x\n",
    "z2=T.dot(x)\n",
    "g1=x\n",
    "g2=np.ones((4096*2-64-64,1))\n"
   ]
  },
  {
   "cell_type": "code",
   "execution_count": 218,
   "metadata": {
    "collapsed": false
   },
   "outputs": [
    {
     "data": {
      "image/png": "[encoded data removed]",
      "text/plain": [
       "<matplotlib.figure.Figure at 0x7f5d39d80438>"
      ]
     },
     "metadata": {},
     "output_type": "display_data"
    }
   ],
   "source": [
    "for i in range(kmax):\n",
    "    x=argmin_x(x,z1,z2,g1,g2,rho,y)\n",
    "    z1=argmin_z1(x,rho,g1)\n",
    "    z2=argmin_z2(x,rho,g2,beta,T)\n",
    "    g1,g2=maj_g1_g2(x,z1,z2,rho,g1,g2,T)\n",
    "\n",
    "x=x.reshape(64,64)\n",
    "plt.imshow(x,cmap='gray')\n",
    "plt.show()"
   ]
  },
  {
   "cell_type": "code",
   "execution_count": 201,
   "metadata": {
    "collapsed": false
   },
   "outputs": [
    {
     "data": {
      "text/plain": [
       "(4096, 1)"
      ]
     },
     "execution_count": 201,
     "metadata": {},
     "output_type": "execute_result"
    }
   ],
   "source": [
    "(1./rho)*g1+x"
   ]
  },
  {
   "cell_type": "code",
   "execution_count": null,
   "metadata": {
    "collapsed": true
   },
   "outputs": [],
   "source": []
  }
 ],
 "metadata": {
  "kernelspec": {
   "display_name": "Python 3",
   "language": "python",
   "name": "python3"
  },
  "language_info": {
   "codemirror_mode": {
    "name": "ipython",
    "version": 3
   },
   "file_extension": ".py",
   "mimetype": "text/x-python",
   "name": "python",
   "nbconvert_exporter": "python",
   "pygments_lexer": "ipython3",
   "version": "3.5.3"
  }
 },
 "nbformat": 4,
 "nbformat_minor": 2
}
