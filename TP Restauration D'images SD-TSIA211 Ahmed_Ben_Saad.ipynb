{
 "cells": [
  {
   "cell_type": "markdown",
   "metadata": {},
   "source": [
    "# TP03: Restauration D'images\n",
    "### Ahmed Ben Saad"
   ]
  },
  {
   "cell_type": "markdown",
   "metadata": {},
   "source": [
    "## I. Altération d'une image"
   ]
  },
  {
   "cell_type": "code",
   "execution_count": 117,
   "metadata": {
    "collapsed": true
   },
   "outputs": [],
   "source": [
    "import pickle\n",
    "import matplotlib.pyplot as plt\n",
    "import numpy as np\n",
    "from scipy.sparse.linalg import cg"
   ]
  },
  {
   "cell_type": "code",
   "execution_count": 148,
   "metadata": {},
   "outputs": [
    {
     "data": {
      "image/png": "[encoded data removed]",
      "text/plain": [
       "<matplotlib.figure.Figure at 0x7eff09ef2f50>"
      ]
     },
     "metadata": {},
     "output_type": "display_data"
    }
   ],
   "source": [
    "path='' #change for filepath\n",
    "#open file\n",
    "data = pickle.load(open(path+'data2018forpython2.pk','rb'))\n",
    "#load the original image\n",
    "X=data.get('original')\n",
    "#plot image\n",
    "plt.imshow(X,cmap='gray')\n",
    "plt.show()"
   ]
  },
  {
   "cell_type": "code",
   "execution_count": 119,
   "metadata": {},
   "outputs": [
    {
     "data": {
      "image/png": "[encoded data removed]",
      "text/plain": [
       "<matplotlib.figure.Figure at 0x7efefa0a6cd0>"
      ]
     },
     "metadata": {},
     "output_type": "display_data"
    }
   ],
   "source": [
    "H=data.get('H')\n",
    "h=H.toarray()\n",
    "#X=np.reshape(X,(4096,1))\n",
    "#XX=H*X\n",
    "#XX=XX.reshape((64,64))\n",
    "XX=data.get('observations')\n",
    "plt.imshow(XX,cmap='gray')\n",
    "plt.show()"
   ]
  },
  {
   "cell_type": "markdown",
   "metadata": {},
   "source": [
    "## II. Restauration d'image par l'algorithme ADMM\n"
   ]
  },
  {
   "cell_type": "markdown",
   "metadata": {},
   "source": [
    "### Préparation 1"
   ]
  },
  {
   "cell_type": "markdown",
   "metadata": {},
   "source": [
    "# TODO REP SUR QUESTION"
   ]
  },
  {
   "cell_type": "markdown",
   "metadata": {},
   "source": [
    "### Préparation 2"
   ]
  },
  {
   "cell_type": "markdown",
   "metadata": {},
   "source": [
    "# TODO REP SUR QUESTION"
   ]
  },
  {
   "cell_type": "markdown",
   "metadata": {},
   "source": [
    "### Préparation 3"
   ]
  },
  {
   "cell_type": "code",
   "execution_count": 120,
   "metadata": {
    "collapsed": true
   },
   "outputs": [],
   "source": [
    "T=data.get('T')\n",
    "T=T.toarray()\n",
    "p=4096"
   ]
  },
  {
   "cell_type": "code",
   "execution_count": 121,
   "metadata": {
    "collapsed": true
   },
   "outputs": [],
   "source": [
    "def argmin_x(x,z1,z2,g1,g2,rho,y):\n",
    "    M= np.dot(np.transpose(h),h)+ rho*np.dot(np.transpose(T),T)+rho*np.eye(p)\n",
    "    B=(rho*(z1+np.dot(np.transpose(T),z2))) + (np.dot(np.transpose(h),y)) - g1 - (np.dot(np.transpose(T),g2))\n",
    "    x=(cg(M,B)[0]).reshape((4096,1))\n",
    "    return x"
   ]
  },
  {
   "cell_type": "markdown",
   "metadata": {},
   "source": [
    "### Préparation 4"
   ]
  },
  {
   "cell_type": "markdown",
   "metadata": {},
   "source": [
    "# TODO TROUVER LA FORMULE DE Zk+1"
   ]
  },
  {
   "cell_type": "code",
   "execution_count": 122,
   "metadata": {
    "collapsed": true
   },
   "outputs": [],
   "source": [
    "def argmin_z1(x,rho,g1):\n",
    "    minn=np.minimum(1.,(1./rho)*g1+x)\n",
    "    maxx=np.maximum(0.,minn)\n",
    "    return(maxx)"
   ]
  },
  {
   "cell_type": "markdown",
   "metadata": {},
   "source": [
    "# TODO TROUVER LA FORMULE DE Z2 k+1"
   ]
  },
  {
   "cell_type": "code",
   "execution_count": 123,
   "metadata": {
    "collapsed": true
   },
   "outputs": [],
   "source": [
    "def seuillage_doux(z, seuil):\n",
    "    if (z > seuil):\n",
    "        z -= seuil\n",
    "    if (z < -seuil):\n",
    "        z += seuil\n",
    "    if (z<=seuil and z>=-seuil):\n",
    "        z = 0\n",
    "    return z"
   ]
  },
  {
   "cell_type": "code",
   "execution_count": 124,
   "metadata": {
    "collapsed": true
   },
   "outputs": [],
   "source": [
    "def argmin_z2(x,rho,g2,beta,T):\n",
    "    Tx=np.dot(T,x)\n",
    "    rhog=(1./rho)*g2\n",
    "    return((Tx+rhog)*np.maximum(0.0,1.0-(1./rho)*beta/np.linalg.norm(Tx+rhog)))\n",
    "    #z2 = Tx + g2/rho\n",
    "    #for i in range(len(z2)):\n",
    "    #    z2[i] = seuillage_doux(z2[i], beta/rho)\n",
    "    #return z2\n"
   ]
  },
  {
   "cell_type": "markdown",
   "metadata": {},
   "source": [
    "### Préparation 5"
   ]
  },
  {
   "cell_type": "code",
   "execution_count": 125,
   "metadata": {
    "collapsed": true
   },
   "outputs": [],
   "source": [
    "def maj_g1_g2(x,z1,z2,rho,g1,g2,T):\n",
    "    new_g1=g1+rho*(x-z1)\n",
    "    new_g2=g2+rho*(T.dot(x)-z2)\n",
    "    return (new_g1,new_g2)\n",
    "    \n",
    "    "
   ]
  },
  {
   "cell_type": "markdown",
   "metadata": {},
   "source": [
    "## III. Implémentation de l'ADMM pour résoudre le problème de restauration d'image\n"
   ]
  },
  {
   "cell_type": "code",
   "execution_count": 151,
   "metadata": {},
   "outputs": [],
   "source": [
    "rho=0.05\n",
    "beta=0.01\n",
    "kmax=100\n",
    "X_Original = X.reshape((4096,1))"
   ]
  },
  {
   "cell_type": "code",
   "execution_count": 158,
   "metadata": {},
   "outputs": [],
   "source": [
    "def ADMM():\n",
    "    y=np.reshape(XX,(4096,1))\n",
    "    x=np.zeros((4096,1))\n",
    "    z1=x\n",
    "    z2=T.dot(x)\n",
    "    g1=x\n",
    "    g2=np.zeros((4096*2-64-64,1))\n",
    "    eqm=[]\n",
    "    #biais=[]\n",
    "    L=[]\n",
    "    for i in range(kmax):\n",
    "        x=argmin_x(x,z1,z2,g1,g2,rho,y)\n",
    "        z1=argmin_z1(x,rho,g1)\n",
    "        z2=argmin_z2(x,rho,g2,beta,T)\n",
    "        g1,g2=maj_g1_g2(x,z1,z2,rho,g1,g2,T)\n",
    "        eqm.append(np.mean((x-X_Original)*(x-X_Original)))\n",
    "        #biais.append(np.mean(y-x))\n",
    "        L_1= 0.5*(np.linalg.norm(y-np.dot(h,x)))**2\n",
    "        L_2=beta*np.linalg.norm(z2,ord=1)\n",
    "        L_3=np.sum(g1*(x-z1))\n",
    "        L_4=np.sum(g2*(T.dot(x)-z2))\n",
    "        L_5=0.5*rho*(np.linalg.norm(x-z1))**2\n",
    "        L_6=0.5*rho*(np.linalg.norm(np.dot(T,x)-z2))**2\n",
    "        L.append( L_1 + L_2 + L_3 + L_4 + L_5 + L_6 )\n",
    "        \n",
    "    x=x.reshape(64,64)\n",
    "    plt.imshow(x,cmap='gray')\n",
    "    plt.show()\n",
    "    return(x,y,eqm,L)"
   ]
  },
  {
   "cell_type": "code",
   "execution_count": 159,
   "metadata": {},
   "outputs": [
    {
     "data": {
      "image/png": "[encoded data removed]",
      "text/plain": [
       "<matplotlib.figure.Figure at 0x7eff01f9a250>"
      ]
     },
     "metadata": {},
     "output_type": "display_data"
    }
   ],
   "source": [
    "x,y,eqm,L = ADMM()"
   ]
  },
  {
   "cell_type": "code",
   "execution_count": 162,
   "metadata": {},
   "outputs": [
    {
     "data": {
      "image/png": "[encoded data removed]",
      "text/plain": [
       "<matplotlib.figure.Figure at 0x7efef959a5d0>"
      ]
     },
     "metadata": {},
     "output_type": "display_data"
    },
    {
     "data": {
      "image/png": "[encoded data removed]",
      "text/plain": [
       "<matplotlib.figure.Figure at 0x7eff0a276d10>"
      ]
     },
     "metadata": {},
     "output_type": "display_data"
    }
   ],
   "source": [
    "abscisse = range(1, kmax+1)\n",
    "plt.figure(3, figsize=(15, 5))\n",
    "plt.title(\"Valeur du Lagrangien augmente\")\n",
    "plt.plot(abscisse, L)\n",
    "plt.xlabel(\"Iteration\")\n",
    "plt.xlim(0, 100)\n",
    "plt.show()\n",
    "plt.figure(3, figsize=(15, 5))\n",
    "plt.title(\"Erreur quadratique moyenne\")\n",
    "plt.plot(abscisse, eqm)\n",
    "plt.xlabel(\"Iteration\")\n",
    "plt.xlim(0, 100)\n",
    "plt.show()"
   ]
  },
  {
   "cell_type": "code",
   "execution_count": 161,
   "metadata": {},
   "outputs": [
    {
     "data": {
      "text/plain": [
       "[10.953879539645287,\n",
       " 7.5511244492070997,\n",
       " 7.7504831033491035,\n",
       " 7.8544156391333049,\n",
       " 7.9261256323701224,\n",
       " 8.0023710267354247,\n",
       " 8.08617059183352,\n",
       " 8.1715926489874491,\n",
       " 8.2516310703754403,\n",
       " 8.3268270844829857,\n",
       " 8.3953704251852344,\n",
       " 8.4585711342925443,\n",
       " 8.5176825565999206,\n",
       " 8.5738579667944403,\n",
       " 8.62766736926039,\n",
       " 8.6802239645694783,\n",
       " 8.7313010926287618,\n",
       " 8.7797410002230905,\n",
       " 8.8242239930195865,\n",
       " 8.8639204782538155,\n",
       " 8.8994889104757089,\n",
       " 8.931338421363666,\n",
       " 8.9594947381750352,\n",
       " 8.9843404436743182,\n",
       " 9.0064898375045175,\n",
       " 9.0267692342503274,\n",
       " 9.0453695956626134,\n",
       " 9.062623058485844,\n",
       " 9.0786592689965868,\n",
       " 9.0937052023437648,\n",
       " 9.1079506802089121,\n",
       " 9.1212838558195042,\n",
       " 9.1336658702239646,\n",
       " 9.1451406796854968,\n",
       " 9.1557454586365878,\n",
       " 9.165676070130429,\n",
       " 9.1750118245187657,\n",
       " 9.1837554689194096,\n",
       " 9.1919391820302145,\n",
       " 9.1995720952979898,\n",
       " 9.206731573933526,\n",
       " 9.2134675081329185,\n",
       " 9.2197966894839745,\n",
       " 9.2257471266668976,\n",
       " 9.231363806577404,\n",
       " 9.236679273339913,\n",
       " 9.2417289319444578,\n",
       " 9.2465610721662763,\n",
       " 9.2511647948900659,\n",
       " 9.2555913240616547,\n",
       " 9.2598117461719571,\n",
       " 9.2638490120524128,\n",
       " 9.2676868446966871,\n",
       " 9.2713464700036692,\n",
       " 9.274819000564694,\n",
       " 9.2781126469445017,\n",
       " 9.2812448552644771,\n",
       " 9.2842436960121013,\n",
       " 9.2871267827902741,\n",
       " 9.2898839725241853,\n",
       " 9.2925236863192744,\n",
       " 9.2950422918065509,\n",
       " 9.2974555727043882,\n",
       " 9.2997767334580033,\n",
       " 9.3020182135666829,\n",
       " 9.3041973248258039,\n",
       " 9.3062983692876955,\n",
       " 9.308303616446695,\n",
       " 9.3102431087798543,\n",
       " 9.3121303154297994,\n",
       " 9.313949441643663,\n",
       " 9.3157093519851664,\n",
       " 9.3174040793986102,\n",
       " 9.3190353198031595,\n",
       " 9.320605389819633,\n",
       " 9.3221212156806423,\n",
       " 9.3235885247950439,\n",
       " 9.3249995239908419,\n",
       " 9.3263605033402506,\n",
       " 9.3276748286112863,\n",
       " 9.3289458467613375,\n",
       " 9.3301759898086889,\n",
       " 9.3313621406865686,\n",
       " 9.3325072203496831,\n",
       " 9.3336199784961842,\n",
       " 9.3346999035748901,\n",
       " 9.3357433228494884,\n",
       " 9.3367471900794428,\n",
       " 9.3377119568996232,\n",
       " 9.3386383322034199,\n",
       " 9.3395370559596138,\n",
       " 9.3404090485774436,\n",
       " 9.3412525256049168,\n",
       " 9.342067097612329,\n",
       " 9.3428516822751853,\n",
       " 9.3436145586579311,\n",
       " 9.3443549196153217,\n",
       " 9.3450744224819093,\n",
       " 9.3457765043170369,\n",
       " 9.3464566698386804]"
      ]
     },
     "execution_count": 161,
     "metadata": {},
     "output_type": "execute_result"
    }
   ],
   "source": [
    "L"
   ]
  },
  {
   "cell_type": "code",
   "execution_count": null,
   "metadata": {
    "collapsed": true
   },
   "outputs": [],
   "source": []
  }
 ],
 "metadata": {
  "kernelspec": {
   "display_name": "Python 2",
   "language": "python",
   "name": "python2"
  },
  "language_info": {
   "codemirror_mode": {
    "name": "ipython",
    "version": 2
   },
   "file_extension": ".py",
   "mimetype": "text/x-python",
   "name": "python",
   "nbconvert_exporter": "python",
   "pygments_lexer": "ipython2",
   "version": "2.7.13"
  }
 },
 "nbformat": 4,
 "nbformat_minor": 2
}
